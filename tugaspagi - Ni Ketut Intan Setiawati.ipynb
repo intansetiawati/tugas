{
  "nbformat": 4,
  "nbformat_minor": 0,
  "metadata": {
    "colab": {
      "name": "Kuis & Tugas 3 Sesi Pagi 4 Maret",
      "provenance": []
    },
    "kernelspec": {
      "name": "python3",
      "display_name": "Python 3"
    },
    "language_info": {
      "name": "python"
    }
  },
  "cells": [
    {
      "cell_type": "markdown",
      "source": [
        "# **Sesi Pagi**"
      ],
      "metadata": {
        "id": "35WUyQCErz95"
      }
    },
    {
      "cell_type": "markdown",
      "source": [
        "# Kuis 1\n",
        "#### Program Pengecekan Bilangan Prima"
      ],
      "metadata": {
        "id": "azxY2rPurxZR"
      }
    },
    {
      "cell_type": "code",
      "source": [
        "def checkPrime(x):\n",
        "    for i in range(2, x):\n",
        "        if n%i==0:\n",
        "            return 1\n",
        "\n",
        "print(\"Masukkan angka: \", end=\"\")\n",
        "n = int(input())\n",
        "\n",
        "p = checkPrime(n)\n",
        "if p==1:\n",
        "    print(\"\\n\" +str(n)+ \" bukan bilangan prima\")\n",
        "else:\n",
        "    print(\"\\n\" +str(n)+ \" adalah bilangan prima\")"
      ],
      "metadata": {
        "id": "Ed1iV_-dpd1A"
      },
      "execution_count": null,
      "outputs": []
    },
    {
      "cell_type": "markdown",
      "source": [
        "# Kuis 2\n",
        "#### Program File Handling"
      ],
      "metadata": {
        "id": "xkdeLiWo39ey"
      }
    },
    {
      "cell_type": "code",
      "source": [
        "#file handling\n",
        "menu_makan = open(\"menu_makan.txt\",\"w\") \n",
        "\n",
        "#menulis data di file menu_makan.txt\n",
        "menu_makan.write('''---------- Menu Makanan ----------\n",
        "1. Nasi Goreng - Rp 20000\n",
        "2. Mie Ayam - Rp 15000\n",
        "3. Capcay - Rp 12000\n",
        "\n",
        "---------- Menu Minuman ----------\n",
        "1. Air Mineral - Rp 4000\n",
        "2. Es Teh - Rp 8000\n",
        "3. Es Jeruk - Rp 10000\n",
        "''')\n",
        "\n",
        "menu_makan.close() "
      ],
      "metadata": {
        "id": "TlCdcv3iqoCE"
      },
      "execution_count": 18,
      "outputs": []
    },
    {
      "cell_type": "code",
      "source": [
        "#menambahkan data di file menu_makan.txt\n",
        "menu_makan = open(\"menu_makan.txt\",\"a\")\n",
        "\n",
        "menu_makan.write(\"Silahkan pilih menu yang Anda Inginkan\")\n",
        "\n",
        "menu_makan.close()"
      ],
      "metadata": {
        "id": "AYr6pHQtKceI"
      },
      "execution_count": 19,
      "outputs": []
    },
    {
      "cell_type": "markdown",
      "source": [
        "# Tugas FGD Sesi Pagi\n",
        "#### Program Kasir Sederhana dengan function, file handling, dan string manipulation"
      ],
      "metadata": {
        "id": "zvV9i-BP4EmN"
      }
    },
    {
      "cell_type": "code",
      "source": [
        "#file handling\n",
        "menu_makanan = open(\"menu_makanan.txt\",\"w\") \n",
        "\n",
        "#menulis data di file menu_makanan.txt\n",
        "menu_makanan.write('''------------------ Menu Makanan ------------------\n",
        "1. Nasi Goreng - Rp 20000\n",
        "2. Mie Ayam - Rp 15000\n",
        "3. Capcay - Rp 12000\n",
        "''')\n",
        "\n",
        "menu_makanan.close() "
      ],
      "metadata": {
        "id": "kr1aVF_0UITy"
      },
      "execution_count": 22,
      "outputs": []
    },
    {
      "cell_type": "code",
      "source": [
        "#file handling\n",
        "menu_minuman = open(\"menu_minuman.txt\",\"w\") \n",
        "\n",
        "#menulis data di file menu_minuman.txt\n",
        "menu_minuman.write('''------------------ Menu Minuman ------------------\n",
        "1. Air Mineral - Rp 4000\n",
        "2. Es Teh - Rp 8000\n",
        "3. Es Jeruk - Rp 10000\n",
        "''')\n",
        "\n",
        "menu_minuman.close() "
      ],
      "metadata": {
        "id": "0vJcYwwEUSe6"
      },
      "execution_count": 23,
      "outputs": []
    },
    {
      "cell_type": "code",
      "source": [
        "# program kasir untuk menampilkan nota \n",
        "print(\"================= Program Kasir =================\")\n",
        "# string manipulation\n",
        "nama_depan = input(\"\\nMasukkan Nama Depan Pembeli: \")\n",
        "nama_belakang = input(\"Masukkan Nama Belakang Pembeli: \")\n",
        "nama_lengkap = nama_depan + ' ' + nama_belakang\n",
        "print (\"Nama Pembeli :\", nama_lengkap) \n",
        "print (\"\\n\")\n",
        "\n",
        "def nota_makan():\n",
        "   global total_makan\n",
        "   global jml_makan\n",
        "   global makanan\n",
        "   # menampilkan menu makanan\n",
        "   menu_makanan = open(\"menu_makanan.txt\",\"r\") \n",
        "   menuMakan = menu_makanan.read()\n",
        "   print (menuMakan)\n",
        "   menu_makanan.close()\n",
        "   num=int(input(\"Masukan pilihan menu makanan: \"))\n",
        "   jml_makan= int(input(\"Jumlah makanan yang dibeli: \"))\n",
        "   \n",
        "   if num==1:\n",
        "       total_makan=jml_makan*20000\n",
        "       print (jml_makan,\"Nasi Goreng = Rp\", total_makan)\n",
        "       makanan=(\"Nasi Goreng\")\n",
        "   elif num==2:\n",
        "       total_makan=jml_makan*15000\n",
        "       print (jml_makan,\"Mie Ayam = Rp\", total_makan)\n",
        "       makanan=(\"Mie Ayam\")\n",
        "   elif num==3:\n",
        "       total_makan=jml_makan*12000\n",
        "       print (jml_makan, \"Capcay = Rp\", total_makan)\n",
        "       makanan=(\"Capcay\")\n",
        "   else:\n",
        "      print(\"Pilihan tidak ada, silahkan pilih menu yang tersedia.\")\n",
        "      nota_makan()\n",
        "\n",
        "def nota_minum():\n",
        "   global total_minum\n",
        "   global jml_minum\n",
        "   global minuman\n",
        "   # menampilkan menu minuman\n",
        "   print (\"\\n\")\n",
        "   menu_minuman = open(\"menu_minuman.txt\",\"r\") \n",
        "   menuMinum = menu_minuman.read()\n",
        "   print (menuMinum)\n",
        "   menu_minuman.close()\n",
        "   num=int(input(\"Masukan pilihan menu minuman: \"))\n",
        "   jml_minum= int(input(\"Jumlah minuman yang dibeli: \"))\n",
        "\n",
        "   if num==1:\n",
        "       total_minum=jml_minum*4000\n",
        "       print (jml_minum,\" Air Mineral = Rp\", total_minum)\n",
        "       minuman=(\"Air Mineral\")\n",
        "   elif num==2:\n",
        "       total_minum=jml_minum*8000\n",
        "       print (jml_minum, \" Es Teh = Rp\", total_minum)\n",
        "       minuman=(\"Es Teh\")\n",
        "   elif num==3:\n",
        "       total_minum=jml_minum*10000\n",
        "       print (jml_minum, \" Es Jeruk = Rp\", total_minum)\n",
        "       minuman=(\"Es Jeruk\")\n",
        "   else:\n",
        "      print(\"Pilihan tidak ada, silahkan pilih menu yang tersedia.\")\n",
        "      nota_minum()\n",
        "\n",
        "nota_makan()\n",
        "nota_minum()\n",
        "total_harga = total_makan+total_minum\n",
        "\n",
        "print(\"\\nHarga Total Keseluruhan: Rp\",total_harga)\n",
        "uang=int(input(\"Uang Tunai Pembeli: Rp \"))\n",
        "kembalian=int(uang-total_harga)\n",
        "print(\"Kembalian :\",kembalian)\n",
        "\n",
        "# menampilkan nota pembelian\n",
        "print (\"\\n\")\n",
        "print(\"=\"*50)\n",
        "print(\"\\t\\tNOTA PEMBELIAN\\t\")\n",
        "print(\"=\"*50)\n",
        "print (\"Nama\\t\\t:\",nama_lengkap)\n",
        "print (\"Beli\\t\\t:\",jml_makan,makanan,\"( Rp\", total_makan,\")\")\n",
        "print (\"\\t\\t \",jml_minum,minuman,\"( Rp\", total_minum,\")\")\n",
        "print (\"Total Tagihan\\t: Rp\",total_harga)\n",
        "print (\"Dibayar\\t\\t: Rp\",uang)\n",
        "print (\"Kembalian\\t: Rp\",kembalian)\n",
        "print(\"=\"*50)"
      ],
      "metadata": {
        "id": "RS6bfZI-4V8z"
      },
      "execution_count": null,
      "outputs": []
    }
  ]
}